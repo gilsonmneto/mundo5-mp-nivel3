{
 "cells": [
  {
   "cell_type": "markdown",
   "metadata": {},
   "source": [
    "Missão Prática | Nível 3 | Mundo 5"
   ]
  },
  {
   "cell_type": "markdown",
   "metadata": {},
   "source": [
    "MICROATIVIDADE 1"
   ]
  },
  {
   "cell_type": "code",
   "execution_count": 1,
   "metadata": {},
   "outputs": [
    {
     "name": "stdout",
     "output_type": "stream",
     "text": [
      "   ID  Duration          Date  Pulse  Maxpulse Calories\n",
      "0   0        60  '2020/12/01'    110       130     4091\n",
      "1   1        60  '2020/12/02'    117       145     4790\n",
      "2   2        60  '2020/12/03'    103       135     3400\n",
      "3   3        45  '2020/12/04'    109       175     2824\n",
      "4   4        45  '2020/12/05'    117       148     4060\n"
     ]
    }
   ],
   "source": [
    "import pandas as pd\n",
    "df = pd.read_csv('database.csv', delimiter=';')\n",
    "print(df.head())\n"
   ]
  },
  {
   "cell_type": "markdown",
   "metadata": {},
   "source": [
    "MICROATIVIDADE 2"
   ]
  },
  {
   "cell_type": "code",
   "execution_count": 2,
   "metadata": {},
   "outputs": [
    {
     "name": "stdout",
     "output_type": "stream",
     "text": [
      "           Date  Pulse Calories\n",
      "0  '2020/12/01'    110     4091\n",
      "1  '2020/12/02'    117     4790\n",
      "2  '2020/12/03'    103     3400\n",
      "3  '2020/12/04'    109     2824\n",
      "4  '2020/12/05'    117     4060\n"
     ]
    }
   ],
   "source": [
    "df_parcial_by_nome = df[['Date', 'Pulse', 'Calories']] # ou pelo nome das colunas\n",
    "print(df_parcial_by_nome.head())"
   ]
  },
  {
   "cell_type": "code",
   "execution_count": 3,
   "metadata": {},
   "outputs": [
    {
     "name": "stdout",
     "output_type": "stream",
     "text": [
      "           Date  Pulse Calories\n",
      "0  '2020/12/01'    110     4091\n",
      "1  '2020/12/02'    117     4790\n",
      "2  '2020/12/03'    103     3400\n",
      "3  '2020/12/04'    109     2824\n",
      "4  '2020/12/05'    117     4060\n"
     ]
    }
   ],
   "source": [
    "df_parcial_by_index = df.iloc[:, [2, 3, 5]] # ou pela posição das colunas\n",
    "print(df_parcial_by_index.head())"
   ]
  },
  {
   "cell_type": "markdown",
   "metadata": {},
   "source": [
    "MICROATIVIDADE 3"
   ]
  },
  {
   "cell_type": "code",
   "execution_count": 4,
   "metadata": {},
   "outputs": [
    {
     "name": "stdout",
     "output_type": "stream",
     "text": [
      "    ID  Duration          Date  Pulse  Maxpulse Calories\n",
      "0    0        60  '2020/12/01'    110       130     4091\n",
      "1    1        60  '2020/12/02'    117       145     4790\n",
      "2    2        60  '2020/12/03'    103       135     3400\n",
      "3    3        45  '2020/12/04'    109       175     2824\n",
      "4    4        45  '2020/12/05'    117       148     4060\n",
      "5    5        60  '2020/12/06'    102       127     3000\n",
      "6    6        60  '2020/12/07'    110       136     3740\n",
      "7    7       450  '2020/12/08'    104       134     2533\n",
      "8    8        30  '2020/12/09'    109       133     1951\n",
      "9    9        60  '2020/12/10'     98       124     2690\n",
      "10  10        60  '2020/12/11'    103       147     3293\n",
      "11  11        60  '2020/12/12'    100       120     2507\n",
      "12  12        60  '2020/12/12'    100       120     2507\n",
      "13  13        60  '2020/12/13'    106       128     3453\n",
      "14  14        60  '2020/12/14'    104       132     3793\n",
      "15  15        60  '2020/12/15'     98       123     2750\n",
      "16  16        60  '2020/12/16'     98       120     2152\n",
      "17  17        60  '2020/12/17'    100       120     3000\n",
      "18  18        45  '2020/12/18'     90       112      NaN\n",
      "19  19        60  '2020/12/19'    103       123     3230\n",
      "20  20        45  '2020/12/20'     97       125   2430 2\n",
      "21   1        60  '2020/12/21'    108       131     3642\n",
      "22  22        45           NaN    100       119     2820\n",
      "23  23        60  '2020/12/23'    130       101     3000\n",
      "24  24        45  '2020/12/24'    105       132     2460\n",
      "25  25        60  '2020/12/25'    102       126     3345\n",
      "26  26        60      20201226    100       120     2500\n",
      "27  27        60  '2020/12/27'     92       118     2410\n",
      "28  28        60  '2020/12/28'    103       132      NaN\n",
      "29  29        60  '2020/12/29'    100       132     2800\n",
      "30  30        60  '2020/12/30'    102       129     3803\n",
      "31  31        60  '2020/12/31'     92       115     2430\n"
     ]
    }
   ],
   "source": [
    "pd.set_option('display.max_rows', 9999)\n",
    "print(df.to_string())"
   ]
  },
  {
   "cell_type": "markdown",
   "metadata": {},
   "source": [
    "MICROATIVIDADE 4"
   ]
  },
  {
   "cell_type": "code",
   "execution_count": 5,
   "metadata": {},
   "outputs": [
    {
     "name": "stdout",
     "output_type": "stream",
     "text": [
      "   ID  Duration          Date  Pulse  Maxpulse Calories\n",
      "0   0        60  '2020/12/01'    110       130     4091\n",
      "1   1        60  '2020/12/02'    117       145     4790\n",
      "2   2        60  '2020/12/03'    103       135     3400\n",
      "3   3        45  '2020/12/04'    109       175     2824\n",
      "4   4        45  '2020/12/05'    117       148     4060\n",
      "5   5        60  '2020/12/06'    102       127     3000\n",
      "6   6        60  '2020/12/07'    110       136     3740\n",
      "7   7       450  '2020/12/08'    104       134     2533\n",
      "8   8        30  '2020/12/09'    109       133     1951\n",
      "9   9        60  '2020/12/10'     98       124     2690\n"
     ]
    }
   ],
   "source": [
    "print(df.head(10))"
   ]
  },
  {
   "cell_type": "code",
   "execution_count": 6,
   "metadata": {},
   "outputs": [
    {
     "name": "stdout",
     "output_type": "stream",
     "text": [
      "    ID  Duration          Date  Pulse  Maxpulse Calories\n",
      "22  22        45           NaN    100       119     2820\n",
      "23  23        60  '2020/12/23'    130       101     3000\n",
      "24  24        45  '2020/12/24'    105       132     2460\n",
      "25  25        60  '2020/12/25'    102       126     3345\n",
      "26  26        60      20201226    100       120     2500\n",
      "27  27        60  '2020/12/27'     92       118     2410\n",
      "28  28        60  '2020/12/28'    103       132      NaN\n",
      "29  29        60  '2020/12/29'    100       132     2800\n",
      "30  30        60  '2020/12/30'    102       129     3803\n",
      "31  31        60  '2020/12/31'     92       115     2430\n"
     ]
    }
   ],
   "source": [
    "print(df.tail(10))"
   ]
  },
  {
   "cell_type": "markdown",
   "metadata": {},
   "source": [
    "MICROATIVIDADE 5"
   ]
  },
  {
   "cell_type": "code",
   "execution_count": 7,
   "metadata": {},
   "outputs": [
    {
     "name": "stdout",
     "output_type": "stream",
     "text": [
      "Informações gerais sobre o DataFrame:\n",
      "<class 'pandas.core.frame.DataFrame'>\n",
      "RangeIndex: 32 entries, 0 to 31\n",
      "Data columns (total 6 columns):\n",
      " #   Column    Non-Null Count  Dtype \n",
      "---  ------    --------------  ----- \n",
      " 0   ID        32 non-null     int64 \n",
      " 1   Duration  32 non-null     int64 \n",
      " 2   Date      31 non-null     object\n",
      " 3   Pulse     32 non-null     int64 \n",
      " 4   Maxpulse  32 non-null     int64 \n",
      " 5   Calories  30 non-null     object\n",
      "dtypes: int64(4), object(2)\n",
      "memory usage: 1.6+ KB\n"
     ]
    }
   ],
   "source": [
    "print(\"Informações gerais sobre o DataFrame:\")\n",
    "df_info = df.info()"
   ]
  },
  {
   "cell_type": "code",
   "execution_count": 8,
   "metadata": {},
   "outputs": [
    {
     "name": "stdout",
     "output_type": "stream",
     "text": [
      "\n",
      "Quantidade de dados nulos por coluna:\n",
      "ID          0\n",
      "Duration    0\n",
      "Date        1\n",
      "Pulse       0\n",
      "Maxpulse    0\n",
      "Calories    2\n",
      "dtype: int64\n"
     ]
    }
   ],
   "source": [
    "print(\"\\nQuantidade de dados nulos por coluna:\")\n",
    "print(df.isnull().sum())"
   ]
  },
  {
   "cell_type": "code",
   "execution_count": 9,
   "metadata": {},
   "outputs": [
    {
     "name": "stdout",
     "output_type": "stream",
     "text": [
      "\n",
      "Memória utilizada pelo DataFrame em bytes:\n",
      "5219\n"
     ]
    }
   ],
   "source": [
    "print(\"\\nMemória utilizada pelo DataFrame em bytes:\")\n",
    "print(df.memory_usage(deep=True).sum())"
   ]
  }
 ],
 "metadata": {
  "kernelspec": {
   "display_name": ".venv",
   "language": "python",
   "name": "python3"
  },
  "language_info": {
   "codemirror_mode": {
    "name": "ipython",
    "version": 3
   },
   "file_extension": ".py",
   "mimetype": "text/x-python",
   "name": "python",
   "nbconvert_exporter": "python",
   "pygments_lexer": "ipython3",
   "version": "3.11.9"
  }
 },
 "nbformat": 4,
 "nbformat_minor": 2
}
