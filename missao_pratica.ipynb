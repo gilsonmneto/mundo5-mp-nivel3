{
 "cells": [
  {
   "cell_type": "code",
   "execution_count": 132,
   "metadata": {},
   "outputs": [],
   "source": [
    "import numpy as np"
   ]
  },
  {
   "cell_type": "code",
   "execution_count": 133,
   "metadata": {},
   "outputs": [
    {
     "name": "stdout",
     "output_type": "stream",
     "text": [
      "   ID  Duration          Date  Pulse  Maxpulse Calories\n",
      "0   0        60  '2020/12/01'    110       130     4091\n",
      "1   1        60  '2020/12/02'    117       145     4790\n",
      "2   2        60  '2020/12/03'    103       135     3400\n",
      "3   3        45  '2020/12/04'    109       175     2824\n",
      "4   4        45  '2020/12/05'    117       148     4060\n"
     ]
    }
   ],
   "source": [
    "import pandas as pd\n",
    "df = pd.read_csv('database.csv', delimiter=';')\n",
    "print(df.head())"
   ]
  },
  {
   "cell_type": "code",
   "execution_count": 134,
   "metadata": {},
   "outputs": [
    {
     "name": "stdout",
     "output_type": "stream",
     "text": [
      "   ID  Duration          Date  Pulse  Maxpulse Calories\n",
      "0   0        60  '2020/12/01'    110       130     4091\n",
      "1   1        60  '2020/12/02'    117       145     4790\n",
      "2   2        60  '2020/12/03'    103       135     3400\n",
      "3   3        45  '2020/12/04'    109       175     2824\n",
      "4   4        45  '2020/12/05'    117       148     4060\n",
      "5   5        60  '2020/12/06'    102       127     3000\n",
      "6   6        60  '2020/12/07'    110       136     3740\n",
      "7   7       450  '2020/12/08'    104       134     2533\n",
      "8   8        30  '2020/12/09'    109       133     1951\n",
      "9   9        60  '2020/12/10'     98       124     2690\n"
     ]
    }
   ],
   "source": [
    "print(df.head(10))\n"
   ]
  },
  {
   "cell_type": "code",
   "execution_count": 135,
   "metadata": {},
   "outputs": [
    {
     "name": "stdout",
     "output_type": "stream",
     "text": [
      "    ID  Duration          Date  Pulse  Maxpulse Calories\n",
      "22  22        45           NaN    100       119     2820\n",
      "23  23        60  '2020/12/23'    130       101     3000\n",
      "24  24        45  '2020/12/24'    105       132     2460\n",
      "25  25        60  '2020/12/25'    102       126     3345\n",
      "26  26        60      20201226    100       120     2500\n",
      "27  27        60  '2020/12/27'     92       118     2410\n",
      "28  28        60  '2020/12/28'    103       132      NaN\n",
      "29  29        60  '2020/12/29'    100       132     2800\n",
      "30  30        60  '2020/12/30'    102       129     3803\n",
      "31  31        60  '2020/12/31'     92       115     2430\n"
     ]
    }
   ],
   "source": [
    "print(df.tail(10))"
   ]
  },
  {
   "cell_type": "code",
   "execution_count": 136,
   "metadata": {},
   "outputs": [
    {
     "name": "stdout",
     "output_type": "stream",
     "text": [
      "22    2820\n",
      "23    3000\n",
      "24    2460\n",
      "25    3345\n",
      "26    2500\n",
      "27    2410\n",
      "28     NaN\n",
      "29    2800\n",
      "30    3803\n",
      "31    2430\n",
      "Name: Calories, dtype: object\n"
     ]
    }
   ],
   "source": [
    "print(df['Calories'].tail(10))"
   ]
  },
  {
   "cell_type": "code",
   "execution_count": 142,
   "metadata": {},
   "outputs": [
    {
     "name": "stdout",
     "output_type": "stream",
     "text": [
      "22    2820\n",
      "23    3000\n",
      "24    2460\n",
      "25    3345\n",
      "26    2500\n",
      "27    2410\n",
      "28       0\n",
      "29    2800\n",
      "30    3803\n",
      "31    2430\n",
      "Name: Calories, dtype: object\n"
     ]
    },
    {
     "name": "stderr",
     "output_type": "stream",
     "text": [
      "C:\\Users\\Gilson\\AppData\\Local\\Temp\\ipykernel_6488\\2083919503.py:2: FutureWarning: A value is trying to be set on a copy of a DataFrame or Series through chained assignment using an inplace method.\n",
      "The behavior will change in pandas 3.0. This inplace method will never work because the intermediate object on which we are setting values always behaves as a copy.\n",
      "\n",
      "For example, when doing 'df[col].method(value, inplace=True)', try using 'df.method({col: value}, inplace=True)' or df[col] = df[col].method(value) instead, to perform the operation inplace on the original object.\n",
      "\n",
      "\n",
      "  df_new['Calories'].fillna(0, inplace=True)\n"
     ]
    }
   ],
   "source": [
    "df_new = df\n",
    "df_new['Calories'].fillna(0, inplace=True)\n",
    "print(df_new['Calories'].tail(10))"
   ]
  },
  {
   "cell_type": "code",
   "execution_count": 140,
   "metadata": {},
   "outputs": [
    {
     "name": "stdout",
     "output_type": "stream",
     "text": [
      "0    2020-12-01\n",
      "1    2020-12-02\n",
      "2    2020-12-03\n",
      "3    2020-12-04\n",
      "4    2020-12-05\n",
      "5    2020-12-06\n",
      "6    2020-12-07\n",
      "7    2020-12-08\n",
      "8    2020-12-09\n",
      "9    2020-12-10\n",
      "10   2020-12-11\n",
      "11   2020-12-12\n",
      "12   2020-12-12\n",
      "13   2020-12-13\n",
      "14   2020-12-14\n",
      "15   2020-12-15\n",
      "16   2020-12-16\n",
      "17   2020-12-17\n",
      "18   2020-12-18\n",
      "19   2020-12-19\n",
      "20   2020-12-20\n",
      "21   2020-12-21\n",
      "22          NaT\n",
      "23   2020-12-23\n",
      "24   2020-12-24\n",
      "25   2020-12-25\n",
      "26          NaT\n",
      "27   2020-12-27\n",
      "28   2020-12-28\n",
      "29   2020-12-29\n",
      "30   2020-12-30\n",
      "31   2020-12-31\n",
      "Name: Date, dtype: datetime64[ns]\n"
     ]
    }
   ],
   "source": [
    "df_new['Date'].fillna('1900/01/01', inplace=True)\n",
    "df_new['Date'].replace('1900/01/01', np.nan, inplace=True)\n",
    "df_new['Date'].replace('20201226', '2020/12/26', inplace=True)\n",
    "df_new['Date'] = pd.to_datetime(df['Date'], errors='coerce')\n",
    "print(df_new['Date'])"
   ]
  },
  {
   "cell_type": "code",
   "execution_count": 141,
   "metadata": {},
   "outputs": [
    {
     "name": "stdout",
     "output_type": "stream",
     "text": [
      "    ID  Duration       Date  Pulse  Maxpulse Calories\n",
      "0    0        60 2020-12-01    110       130     4091\n",
      "1    1        60 2020-12-02    117       145     4790\n",
      "2    2        60 2020-12-03    103       135     3400\n",
      "3    3        45 2020-12-04    109       175     2824\n",
      "4    4        45 2020-12-05    117       148     4060\n",
      "5    5        60 2020-12-06    102       127     3000\n",
      "6    6        60 2020-12-07    110       136     3740\n",
      "7    7       450 2020-12-08    104       134     2533\n",
      "8    8        30 2020-12-09    109       133     1951\n",
      "9    9        60 2020-12-10     98       124     2690\n",
      "10  10        60 2020-12-11    103       147     3293\n",
      "11  11        60 2020-12-12    100       120     2507\n",
      "12  12        60 2020-12-12    100       120     2507\n",
      "13  13        60 2020-12-13    106       128     3453\n",
      "14  14        60 2020-12-14    104       132     3793\n",
      "15  15        60 2020-12-15     98       123     2750\n",
      "16  16        60 2020-12-16     98       120     2152\n",
      "17  17        60 2020-12-17    100       120     3000\n",
      "18  18        45 2020-12-18     90       112        0\n",
      "19  19        60 2020-12-19    103       123     3230\n",
      "20  20        45 2020-12-20     97       125   2430 2\n",
      "21   1        60 2020-12-21    108       131     3642\n",
      "22  22        45        NaT    100       119     2820\n",
      "23  23        60 2020-12-23    130       101     3000\n",
      "24  24        45 2020-12-24    105       132     2460\n",
      "25  25        60 2020-12-25    102       126     3345\n",
      "26  26        60        NaT    100       120     2500\n",
      "27  27        60 2020-12-27     92       118     2410\n",
      "28  28        60 2020-12-28    103       132        0\n",
      "29  29        60 2020-12-29    100       132     2800\n",
      "30  30        60 2020-12-30    102       129     3803\n",
      "31  31        60 2020-12-31     92       115     2430\n"
     ]
    }
   ],
   "source": [
    "print(df_new)"
   ]
  }
 ],
 "metadata": {
  "kernelspec": {
   "display_name": ".venv",
   "language": "python",
   "name": "python3"
  },
  "language_info": {
   "codemirror_mode": {
    "name": "ipython",
    "version": 3
   },
   "file_extension": ".py",
   "mimetype": "text/x-python",
   "name": "python",
   "nbconvert_exporter": "python",
   "pygments_lexer": "ipython3",
   "version": "3.11.9"
  }
 },
 "nbformat": 4,
 "nbformat_minor": 2
}
